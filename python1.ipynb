{
  "nbformat": 4,
  "nbformat_minor": 0,
  "metadata": {
    "colab": {
      "provenance": [],
      "authorship_tag": "ABX9TyPo1MTsemXzjCQKO4VUA8lI",
      "include_colab_link": true
    },
    "kernelspec": {
      "name": "python3",
      "display_name": "Python 3"
    },
    "language_info": {
      "name": "python"
    }
  },
  "cells": [
    {
      "cell_type": "markdown",
      "metadata": {
        "id": "view-in-github",
        "colab_type": "text"
      },
      "source": [
        "<a href=\"https://colab.research.google.com/github/Zeroo2002/Zeroo2002/blob/main/python1.ipynb\" target=\"_parent\"><img src=\"https://colab.research.google.com/assets/colab-badge.svg\" alt=\"Open In Colab\"/></a>"
      ]
    },
    {
      "cell_type": "code",
      "execution_count": 1,
      "metadata": {
        "colab": {
          "base_uri": "https://localhost:8080/",
          "height": 35
        },
        "id": "3wh7FaR1MeyF",
        "outputId": "7c20ef4d-8240-40a0-90fb-865f12a652d0"
      },
      "outputs": [
        {
          "output_type": "execute_result",
          "data": {
            "text/plain": [
              "'Arithmetica Conics Elements'"
            ],
            "application/vnd.google.colaboratory.intrinsic+json": {
              "type": "string"
            }
          },
          "metadata": {},
          "execution_count": 1
        }
      ],
      "source": [
        "treatises = [\"Arithmetica\", \"Conics\", \"Elements\"]\n",
        "\" \".join(treatises)\n",
        "\n"
      ]
    },
    {
      "cell_type": "code",
      "source": [
        "s = '='*5\n",
        "print(s)"
      ],
      "metadata": {
        "colab": {
          "base_uri": "https://localhost:8080/"
        },
        "id": "RF4R-oDwVIC-",
        "outputId": "36d8f776-4ba9-4f13-d429-cf51a78a45f3"
      },
      "execution_count": 4,
      "outputs": [
        {
          "output_type": "stream",
          "name": "stdout",
          "text": [
            "=====\n"
          ]
        }
      ]
    },
    {
      "cell_type": "code",
      "source": [
        "x = \"three\"\n",
        "s = \"{0} {1} {2}\"\n",
        "s = s.format(\"The\", x, \"tops\")\n",
        "s"
      ],
      "metadata": {
        "colab": {
          "base_uri": "https://localhost:8080/",
          "height": 35
        },
        "id": "I8hlM9xJYMk3",
        "outputId": "63d8a9c8-7fef-40d7-c054-b204555ab33e"
      },
      "execution_count": 9,
      "outputs": [
        {
          "output_type": "execute_result",
          "data": {
            "text/plain": [
              "'The three tops'"
            ],
            "application/vnd.google.colaboratory.intrinsic+json": {
              "type": "string"
            }
          },
          "metadata": {},
          "execution_count": 9
        }
      ]
    },
    {
      "cell_type": "code",
      "source": [
        "a = \"The novel '{0}' was published in {1}\"\n",
        "s = a.format(\"Hard Times\", 1854)\n",
        "s"
      ],
      "metadata": {
        "colab": {
          "base_uri": "https://localhost:8080/",
          "height": 35
        },
        "id": "MSDDuVCHZWO5",
        "outputId": "bc65aee0-e29c-4738-b1e6-a7d5cc23e56d"
      },
      "execution_count": 12,
      "outputs": [
        {
          "output_type": "execute_result",
          "data": {
            "text/plain": [
              "\"The novel 'Hard Times' was published in 1854\""
            ],
            "application/vnd.google.colaboratory.intrinsic+json": {
              "type": "string"
            }
          },
          "metadata": {},
          "execution_count": 12
        }
      ]
    },
    {
      "cell_type": "code",
      "source": [
        "a = \"{who} turned {age} this year\"\n",
        "s = a.format(who = \"She\", age = 18)\n",
        "s"
      ],
      "metadata": {
        "colab": {
          "base_uri": "https://localhost:8080/",
          "height": 35
        },
        "id": "AjSAB1utZ4Qy",
        "outputId": "d0a26975-7fdd-4871-8a59-34f65630c1f8"
      },
      "execution_count": 14,
      "outputs": [
        {
          "output_type": "execute_result",
          "data": {
            "text/plain": [
              "'She turned 18 this year'"
            ],
            "application/vnd.google.colaboratory.intrinsic+json": {
              "type": "string"
            }
          },
          "metadata": {},
          "execution_count": 14
        }
      ]
    },
    {
      "cell_type": "code",
      "source": [
        "a = \"The {who} was {0} last week\"\n",
        "s =a.format(12, who = \"boy\")\n",
        "s"
      ],
      "metadata": {
        "colab": {
          "base_uri": "https://localhost:8080/",
          "height": 35
        },
        "id": "AFFzG1OOe8sy",
        "outputId": "e7bd2633-adcc-445e-9976-5574ed81c4af"
      },
      "execution_count": 15,
      "outputs": [
        {
          "output_type": "execute_result",
          "data": {
            "text/plain": [
              "'The boy was 12 last week'"
            ],
            "application/vnd.google.colaboratory.intrinsic+json": {
              "type": "string"
            }
          },
          "metadata": {},
          "execution_count": 15
        }
      ]
    },
    {
      "cell_type": "code",
      "source": [
        "stock = [\"paper\", \"envelopes\", \"notepads\", \"pens\", \"paperclips\"]\n",
        "s1 = \"We have {0[1]} and {0[2]} in stock\".format(stock)\n",
        "s1"
      ],
      "metadata": {
        "colab": {
          "base_uri": "https://localhost:8080/",
          "height": 35
        },
        "id": "ZuW57MzwfQ-1",
        "outputId": "3dc6fd25-8097-4dcf-a566-6b5c72c75013"
      },
      "execution_count": 16,
      "outputs": [
        {
          "output_type": "execute_result",
          "data": {
            "text/plain": [
              "'We have envelopes and notepads in stock'"
            ],
            "application/vnd.google.colaboratory.intrinsic+json": {
              "type": "string"
            }
          },
          "metadata": {},
          "execution_count": 16
        }
      ]
    },
    {
      "cell_type": "code",
      "source": [
        "fruits = [\"apples\", \"mangoes\", \"grapes\", \"banana\"]\n",
        "s2 = \"We only sell {0[0]} and {0[1]} here.\".format(fruits)\n",
        "s2"
      ],
      "metadata": {
        "colab": {
          "base_uri": "https://localhost:8080/",
          "height": 35
        },
        "id": "GDP9hYAVhbrl",
        "outputId": "a7842d1e-211b-4b56-a3c0-6cc10aa145a8"
      },
      "execution_count": 19,
      "outputs": [
        {
          "output_type": "execute_result",
          "data": {
            "text/plain": [
              "'We only sell apples and mangoes here.'"
            ],
            "application/vnd.google.colaboratory.intrinsic+json": {
              "type": "string"
            }
          },
          "metadata": {},
          "execution_count": 19
        }
      ]
    },
    {
      "cell_type": "code",
      "source": [
        "d = dict(animal = \"elephant\",\n",
        "         weight = 12000,)\n",
        "a = \"The {0[animal]} weighs {0[weight]}kg\".format(d)\n",
        "a"
      ],
      "metadata": {
        "colab": {
          "base_uri": "https://localhost:8080/",
          "height": 35
        },
        "id": "2RVErmHNjAZF",
        "outputId": "76429591-a456-4acf-b8cb-ced6d53499c3"
      },
      "execution_count": 18,
      "outputs": [
        {
          "output_type": "execute_result",
          "data": {
            "text/plain": [
              "'The elephant weighs 12000kg'"
            ],
            "application/vnd.google.colaboratory.intrinsic+json": {
              "type": "string"
            }
          },
          "metadata": {},
          "execution_count": 18
        }
      ]
    },
    {
      "cell_type": "code",
      "source": [
        "string = \"madam\"\n",
        "\n",
        "print(reversed(string))\n",
        "\n",
        "\n"
      ],
      "metadata": {
        "colab": {
          "base_uri": "https://localhost:8080/"
        },
        "id": "DGSpwM93kCOp",
        "outputId": "a6ed1ac6-79e3-41cc-8bf5-9d1bc34cd50d"
      },
      "execution_count": 42,
      "outputs": [
        {
          "output_type": "stream",
          "name": "stdout",
          "text": [
            "<reversed object at 0x7f95bb4653c0>\n"
          ]
        }
      ]
    },
    {
      "cell_type": "code",
      "source": [
        "sentence = input(\"Enter any sentence \")\n",
        "\n",
        "a= sentence.count(\"th\")\n",
        "th = \"no of occurence of 'th' is\", a\n",
        "th\n",
        "\n",
        "b = sentence.count(\"wh\")\n",
        "wh = \"no of occurence of 'wh' is\", b\n",
        "wh\n",
        "\n",
        "c= sentence.count(\"ho\")\n",
        "ho = \"no of occurence of 'ho' is\", c\n",
        "ho"
      ],
      "metadata": {
        "colab": {
          "base_uri": "https://localhost:8080/"
        },
        "id": "JkPisGYVlrby",
        "outputId": "08a69d70-0e9a-485d-9e43-90eaa09275d4"
      },
      "execution_count": 30,
      "outputs": [
        {
          "name": "stdout",
          "output_type": "stream",
          "text": [
            "Enter any sentence There was a kangaroo living in a forest and it loves to hop and travel\n"
          ]
        },
        {
          "output_type": "execute_result",
          "data": {
            "text/plain": [
              "(\"no of occurence of 'wh' is\", 0)"
            ]
          },
          "metadata": {},
          "execution_count": 30
        }
      ]
    }
  ]
}