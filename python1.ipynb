{
  "nbformat": 4,
  "nbformat_minor": 0,
  "metadata": {
    "colab": {
      "provenance": [],
      "authorship_tag": "ABX9TyMERAPhvd3cmPD3L+z3Ti84",
      "include_colab_link": true
    },
    "kernelspec": {
      "name": "python3",
      "display_name": "Python 3"
    },
    "language_info": {
      "name": "python"
    }
  },
  "cells": [
    {
      "cell_type": "markdown",
      "metadata": {
        "id": "view-in-github",
        "colab_type": "text"
      },
      "source": [
        "<a href=\"https://colab.research.google.com/github/Zeroo2002/Zeroo2002/blob/main/python1.ipynb\" target=\"_parent\"><img src=\"https://colab.research.google.com/assets/colab-badge.svg\" alt=\"Open In Colab\"/></a>"
      ]
    },
    {
      "cell_type": "code",
      "execution_count": null,
      "metadata": {
        "colab": {
          "base_uri": "https://localhost:8080/",
          "height": 35
        },
        "id": "3wh7FaR1MeyF",
        "outputId": "7c20ef4d-8240-40a0-90fb-865f12a652d0"
      },
      "outputs": [
        {
          "output_type": "execute_result",
          "data": {
            "text/plain": [
              "'Arithmetica Conics Elements'"
            ],
            "application/vnd.google.colaboratory.intrinsic+json": {
              "type": "string"
            }
          },
          "metadata": {},
          "execution_count": 1
        }
      ],
      "source": [
        "treatises = [\"Arithmetica\", \"Conics\", \"Elements\"]\n",
        "\" \".join(treatises)\n",
        "\n"
      ]
    },
    {
      "cell_type": "code",
      "source": [
        "s = '='*5\n",
        "print(s)"
      ],
      "metadata": {
        "colab": {
          "base_uri": "https://localhost:8080/"
        },
        "id": "RF4R-oDwVIC-",
        "outputId": "36d8f776-4ba9-4f13-d429-cf51a78a45f3"
      },
      "execution_count": null,
      "outputs": [
        {
          "output_type": "stream",
          "name": "stdout",
          "text": [
            "=====\n"
          ]
        }
      ]
    },
    {
      "cell_type": "code",
      "source": [
        "from google.colab import drive\n",
        "drive.mount('/content/drive')"
      ],
      "metadata": {
        "id": "sb8_Zp3T9h94"
      },
      "execution_count": null,
      "outputs": []
    },
    {
      "cell_type": "code",
      "source": [
        "x = \"three\"\n",
        "s = \"{0} {1} {2}\"\n",
        "s = s.format(\"The\", x, \"tops\")\n",
        "s"
      ],
      "metadata": {
        "colab": {
          "base_uri": "https://localhost:8080/",
          "height": 35
        },
        "id": "I8hlM9xJYMk3",
        "outputId": "63d8a9c8-7fef-40d7-c054-b204555ab33e"
      },
      "execution_count": null,
      "outputs": [
        {
          "output_type": "execute_result",
          "data": {
            "text/plain": [
              "'The three tops'"
            ],
            "application/vnd.google.colaboratory.intrinsic+json": {
              "type": "string"
            }
          },
          "metadata": {},
          "execution_count": 9
        }
      ]
    },
    {
      "cell_type": "code",
      "source": [
        "a = \"The novel '{0}' was published in {1}\"\n",
        "s = a.format(\"Hard Times\", 1854)\n",
        "s"
      ],
      "metadata": {
        "colab": {
          "base_uri": "https://localhost:8080/",
          "height": 35
        },
        "id": "MSDDuVCHZWO5",
        "outputId": "bc65aee0-e29c-4738-b1e6-a7d5cc23e56d"
      },
      "execution_count": null,
      "outputs": [
        {
          "output_type": "execute_result",
          "data": {
            "text/plain": [
              "\"The novel 'Hard Times' was published in 1854\""
            ],
            "application/vnd.google.colaboratory.intrinsic+json": {
              "type": "string"
            }
          },
          "metadata": {},
          "execution_count": 12
        }
      ]
    },
    {
      "cell_type": "code",
      "source": [
        "a = \"{who} turned {age} this year\"\n",
        "s = a.format(who = \"She\", age = 18)\n",
        "s"
      ],
      "metadata": {
        "colab": {
          "base_uri": "https://localhost:8080/",
          "height": 35
        },
        "id": "AjSAB1utZ4Qy",
        "outputId": "d0a26975-7fdd-4871-8a59-34f65630c1f8"
      },
      "execution_count": null,
      "outputs": [
        {
          "output_type": "execute_result",
          "data": {
            "text/plain": [
              "'She turned 18 this year'"
            ],
            "application/vnd.google.colaboratory.intrinsic+json": {
              "type": "string"
            }
          },
          "metadata": {},
          "execution_count": 14
        }
      ]
    },
    {
      "cell_type": "code",
      "source": [
        "a = \"The {who} was {0} last week\"\n",
        "s =a.format(12, who = \"boy\")\n",
        "s"
      ],
      "metadata": {
        "colab": {
          "base_uri": "https://localhost:8080/",
          "height": 35
        },
        "id": "AFFzG1OOe8sy",
        "outputId": "e7bd2633-adcc-445e-9976-5574ed81c4af"
      },
      "execution_count": null,
      "outputs": [
        {
          "output_type": "execute_result",
          "data": {
            "text/plain": [
              "'The boy was 12 last week'"
            ],
            "application/vnd.google.colaboratory.intrinsic+json": {
              "type": "string"
            }
          },
          "metadata": {},
          "execution_count": 15
        }
      ]
    },
    {
      "cell_type": "code",
      "source": [
        "stock = [\"paper\", \"envelopes\", \"notepads\", \"pens\", \"paperclips\"]\n",
        "s1 = \"We have {0[1]} and {0[2]} in stock\".format(stock)\n",
        "s1"
      ],
      "metadata": {
        "colab": {
          "base_uri": "https://localhost:8080/",
          "height": 35
        },
        "id": "ZuW57MzwfQ-1",
        "outputId": "3dc6fd25-8097-4dcf-a566-6b5c72c75013"
      },
      "execution_count": null,
      "outputs": [
        {
          "output_type": "execute_result",
          "data": {
            "text/plain": [
              "'We have envelopes and notepads in stock'"
            ],
            "application/vnd.google.colaboratory.intrinsic+json": {
              "type": "string"
            }
          },
          "metadata": {},
          "execution_count": 16
        }
      ]
    },
    {
      "cell_type": "code",
      "source": [
        "fruits = [\"apples\", \"mangoes\", \"grapes\", \"banana\"]\n",
        "s2 = \"We only sell {0[0]} and {0[1]} here.\".format(fruits)\n",
        "s2"
      ],
      "metadata": {
        "colab": {
          "base_uri": "https://localhost:8080/",
          "height": 35
        },
        "id": "GDP9hYAVhbrl",
        "outputId": "a7842d1e-211b-4b56-a3c0-6cc10aa145a8"
      },
      "execution_count": null,
      "outputs": [
        {
          "output_type": "execute_result",
          "data": {
            "text/plain": [
              "'We only sell apples and mangoes here.'"
            ],
            "application/vnd.google.colaboratory.intrinsic+json": {
              "type": "string"
            }
          },
          "metadata": {},
          "execution_count": 19
        }
      ]
    },
    {
      "cell_type": "code",
      "source": [
        "d = dict(animal = \"elephant\",\n",
        "         weight = 12000,)\n",
        "a = \"The {0[animal]} weighs {0[weight]}kg\".format(d)\n",
        "a"
      ],
      "metadata": {
        "colab": {
          "base_uri": "https://localhost:8080/",
          "height": 35
        },
        "id": "2RVErmHNjAZF",
        "outputId": "76429591-a456-4acf-b8cb-ced6d53499c3"
      },
      "execution_count": null,
      "outputs": [
        {
          "output_type": "execute_result",
          "data": {
            "text/plain": [
              "'The elephant weighs 12000kg'"
            ],
            "application/vnd.google.colaboratory.intrinsic+json": {
              "type": "string"
            }
          },
          "metadata": {},
          "execution_count": 18
        }
      ]
    },
    {
      "cell_type": "code",
      "source": [
        "def reverse(num):\n",
        "  return num[::-1]\n",
        "\n",
        "string = input(\"Enter a word: \")\n",
        "reversed_string = reverse(string)\n",
        "print(\"If reversed: \", reversed_string)\n",
        "\n",
        "if reversed_string == string:\n",
        "  print(\"The word is a palindrome\")\n",
        "else:\n",
        "  print(\"The word is not a palindrome\")\n"
      ],
      "metadata": {
        "colab": {
          "base_uri": "https://localhost:8080/"
        },
        "id": "DGSpwM93kCOp",
        "outputId": "25252c0a-4b8d-445c-bf48-b13c754b481e"
      },
      "execution_count": null,
      "outputs": [
        {
          "output_type": "stream",
          "name": "stdout",
          "text": [
            "Enter a word: Again\n",
            "If reversed:  niagA\n",
            "The word is not a palindrome\n"
          ]
        }
      ]
    },
    {
      "cell_type": "code",
      "source": [
        "sentence = input(\"Enter any sentence \")\n",
        "\n",
        "a= sentence.count(\"th\")\n",
        "th = \"no of occurence of 'th' is\", a\n",
        "\n",
        "\n",
        "b = sentence.count(\"wh\")\n",
        "wh = \"no of occurence of 'wh' is\", b\n",
        "\n",
        "\n",
        "c= sentence.count(\"ho\")\n",
        "ho = \"no of occurence of 'ho' is\", c\n",
        "\n",
        "Option = input(\"Enter to know the occurence of any one 'th', 'wh' or 'ho': \")\n",
        "if(Option == \"th\"):\n",
        "  print(\"The occurence of 'th' is: \",th)\n",
        "elif(Option == \"wh\"):\n",
        "  print(\"The occurence of 'wh' is: \",wh)\n",
        "else:\n",
        "  print(\"The occurence of 'ho' is: \",ho)\n"
      ],
      "metadata": {
        "colab": {
          "base_uri": "https://localhost:8080/"
        },
        "id": "JkPisGYVlrby",
        "outputId": "9e68d532-eff1-48d3-93f6-1051788cc7e3"
      },
      "execution_count": null,
      "outputs": [
        {
          "output_type": "stream",
          "name": "stdout",
          "text": [
            "Enter any sentence there was a kangaroo who lives in a dense forest who loves to hop and travel everyday\n",
            "Enter to know the occurence of any one 'th', 'wh' or 'ho': th\n",
            "The occurence of 'th' is:  (\"no of occurence of 'th' is\", 1)\n"
          ]
        }
      ]
    },
    {
      "cell_type": "code",
      "source": [
        "L1 = [1,2,3,4,[]]\n",
        "\n",
        "\n",
        "print([] in L1)"
      ],
      "metadata": {
        "colab": {
          "base_uri": "https://localhost:8080/"
        },
        "id": "bgf3mtIhHN8Z",
        "outputId": "e12fadb5-9c1e-4e09-c9f0-e0c49c55cf37"
      },
      "execution_count": null,
      "outputs": [
        {
          "output_type": "stream",
          "name": "stdout",
          "text": [
            "True\n"
          ]
        }
      ]
    },
    {
      "cell_type": "code",
      "source": [
        "L1 = [34, 56, 12, 66, 89, 45, 27]\n",
        "\n",
        "L1.sort()\n",
        "\n",
        "print(L1[-2])"
      ],
      "metadata": {
        "colab": {
          "base_uri": "https://localhost:8080/"
        },
        "id": "euOSdXK5IOaU",
        "outputId": "384f4765-2b97-4cc2-dfff-f28cbb84344d"
      },
      "execution_count": null,
      "outputs": [
        {
          "output_type": "stream",
          "name": "stdout",
          "text": [
            "66\n"
          ]
        }
      ]
    }
  ]
}