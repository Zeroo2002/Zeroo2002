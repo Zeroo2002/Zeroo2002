{
  "nbformat": 4,
  "nbformat_minor": 0,
  "metadata": {
    "colab": {
      "provenance": [],
      "authorship_tag": "ABX9TyONUVvFJUlUny7zNvQVtf7h",
      "include_colab_link": true
    },
    "kernelspec": {
      "name": "python3",
      "display_name": "Python 3"
    },
    "language_info": {
      "name": "python"
    }
  },
  "cells": [
    {
      "cell_type": "markdown",
      "metadata": {
        "id": "view-in-github",
        "colab_type": "text"
      },
      "source": [
        "<a href=\"https://colab.research.google.com/github/Zeroo2002/Zeroo2002/blob/main/Numpy.ipynb\" target=\"_parent\"><img src=\"https://colab.research.google.com/assets/colab-badge.svg\" alt=\"Open In Colab\"/></a>"
      ]
    },
    {
      "cell_type": "code",
      "execution_count": 31,
      "metadata": {
        "colab": {
          "base_uri": "https://localhost:8080/"
        },
        "id": "86Ct0im5dHRE",
        "outputId": "56a43759-1b33-48a7-c7e6-44f1684c3dd2"
      },
      "outputs": [
        {
          "output_type": "stream",
          "name": "stdout",
          "text": [
            "[2 2 2 2 2 2 2 2 2 2]\n",
            "[0 0 0 0 0 0 0 0 0 0]\n",
            "[1 1 1 1 1 1 1 1 1 1]\n",
            "[['Ringki' 'Ringki' 'Ringki' 'Ringki' 'Ringki']\n",
            " ['Ringki' 'Ringki' 'Ringki' 'Ringki' 'Ringki']\n",
            " ['Ringki' 'Ringki' 'Ringki' 'Ringki' 'Ringki']]\n",
            "[ 0  2  4  6  8 10 12 14 16 18]\n",
            "[ 0  2  4  6  8 10 12 14 16 18 20]\n",
            "[0.   0.25 0.5  0.75 1.  ]\n",
            "[0. 1. 2.]\n",
            "[[1. 0. 0.]\n",
            " [0. 1. 0.]\n",
            " [0. 0. 1.]]\n"
          ]
        }
      ],
      "source": [
        "import numpy as np      #We can use any name instead of 'np'\n",
        "\n",
        "print(np.full(10,2)) #creating array with any number of length 10\n",
        "print(np.zeros(10, dtype='int')) #creating array with zeros of length 10\n",
        "print(np.ones(10, dtype='int')) #creating array with zeros length 10\n",
        "print(np.full((3,5),\"Ringki\")) #creating an array with pre-defined values\n",
        "print(np.arange(0, 20, 2)) #creating an array with a set sequence\n",
        "print(np.arange(0, 21, 2)) #creating an array with a set sequence\n",
        "print(np.linspace(0, 1, 5)) #create a 3x3 array with mean 0 and standard deviation 1 in a given dimension\n",
        "print(np.linspace(0, 2, 3)) #create a 3x3 array with mean 0 and standard deviation 1 in a given dimension\n",
        "print(np.eye(3)) #creates an identity matrix of axa where a = given value"
      ]
    },
    {
      "cell_type": "code",
      "source": [
        "#ACCESSING ARRAY ELEMENTS\n",
        "\n",
        "x1 = np.array([4, 3, 2, 13, 8, 4])\n",
        "\n",
        "print(x1)    #prints the array x1\n",
        "print(x1[0], x1[5]) #accesing the elements of array\n",
        "print(x1[-1], x1[-4])\n",
        "\n",
        "x2 = np.array([[3, 7, 5, 5],\n",
        "               [0, 1, 5, 9],\n",
        "               [3, 0, 5, 4]])\n",
        "\n",
        "print(x2)\n",
        "print(x2[2,3]) #2nd row 3rd column\n",
        "print(x2[-2,-1])  #last 2nd row last column"
      ],
      "metadata": {
        "colab": {
          "base_uri": "https://localhost:8080/"
        },
        "id": "iiTMD6eDjcPI",
        "outputId": "e934604e-7f5c-4bac-f32a-1a83aa21060c"
      },
      "execution_count": 43,
      "outputs": [
        {
          "output_type": "stream",
          "name": "stdout",
          "text": [
            "[ 4  3  2 13  8  4]\n",
            "4 4\n",
            "4 2\n",
            "[[3 7 5 5]\n",
            " [0 1 5 9]\n",
            " [3 0 5 4]]\n",
            "4\n",
            "9\n"
          ]
        }
      ]
    },
    {
      "cell_type": "code",
      "source": [
        "#array slicing in single dimension\n",
        "\n",
        "x = np.arange(10)\n",
        "print(x)\n",
        "\n",
        "print(x[:5])   #from start to (5-1) index\n",
        "print(x[4:])   #from 4th index to end\n",
        "\n",
        "print(x[4:7])    #from 4th index to 6th index\n",
        "\n",
        "print(x[: : 2])   #prints from start to end skipping every 2nd element\n",
        "\n",
        "print(x[: : -1])  #prints from end to start or reverse the array\n",
        "\n",
        "print(x[1: : 2])  #prints from index 1 to end skipping every 2nd element"
      ],
      "metadata": {
        "colab": {
          "base_uri": "https://localhost:8080/"
        },
        "id": "RwqLaKjkmETB",
        "outputId": "ee1c14ac-dfdb-469a-9886-971c3cb8d290"
      },
      "execution_count": 53,
      "outputs": [
        {
          "output_type": "stream",
          "name": "stdout",
          "text": [
            "[0 1 2 3 4 5 6 7 8 9]\n",
            "[0 1 2 3 4]\n",
            "[4 5 6 7 8 9]\n",
            "[4 5 6]\n",
            "[0 2 4 6 8]\n",
            "[9 8 7 6 5 4 3 2 1 0]\n",
            "[1 3 5 7 9]\n"
          ]
        }
      ]
    },
    {
      "cell_type": "code",
      "source": [
        "#Array Slicing in Multidimensional array\n",
        "\n",
        "x3 = np.array([[3, 7, 5, 0],\n",
        "               [0, 1, 2, 9],\n",
        "               [3, 0, 6, 4]])\n",
        "\n",
        "print(x3)\n",
        "\n",
        "print(x3.shape)   #returns the dimension of the array\n",
        "print(x3[0:2])   #rows including from index 0 but excluding index 2\n",
        "print(x3[0:2, 1:3])    #First 2 rows, 1st(index 2) and 2nd(index 3) column\n",
        "\n",
        "print(x3[2])   #only row of index 2\n",
        "print(x3[:, 2])  #only column\n",
        "\n"
      ],
      "metadata": {
        "id": "dqIrsfEMotBN"
      },
      "execution_count": null,
      "outputs": []
    },
    {
      "cell_type": "code",
      "source": [
        "#Finding dimension of 1xn array\n",
        "\n",
        "x1 = np.array([[1,2,3]])\n",
        "print(x1.shape)"
      ],
      "metadata": {
        "colab": {
          "base_uri": "https://localhost:8080/"
        },
        "id": "hXdyQdyQtgbW",
        "outputId": "2ccf082c-de25-4350-b866-20af94e9ee59"
      },
      "execution_count": 70,
      "outputs": [
        {
          "output_type": "stream",
          "name": "stdout",
          "text": [
            "(1, 3)\n"
          ]
        }
      ]
    },
    {
      "cell_type": "code",
      "source": [
        "#Creating 3D array in numpy\n",
        "\n",
        "x3 = np.array([[[1,2,3],                   #Here [[1,2,3], [3,4,5]] is 1st slice\n",
        "                [3,4,1]],\n",
        "\n",
        "                [[5,6,2],                  #Here [[5,6,2], [7,8,4]] is 2nd slice\n",
        "                [7,8,4]]])\n",
        "\n",
        "print(x3)\n",
        "print(x3.shape)\n",
        "print(x3[1, 0, 1])     #slice, row, column\n"
      ],
      "metadata": {
        "colab": {
          "base_uri": "https://localhost:8080/"
        },
        "id": "ZhlSZZy0vvQm",
        "outputId": "e03e5ecb-66e2-465b-ccb2-f13a58338129"
      },
      "execution_count": 74,
      "outputs": [
        {
          "output_type": "stream",
          "name": "stdout",
          "text": [
            "[[[1 2 3]\n",
            "  [3 4 1]]\n",
            "\n",
            " [[5 6 2]\n",
            "  [7 8 4]]]\n",
            "(2, 2, 3)\n",
            "6\n"
          ]
        }
      ]
    },
    {
      "cell_type": "code",
      "source": [
        "#Splitting and COncatenantion of Arrays(Notes Version)\n",
        "\n",
        "\n",
        "#Concatenation\n",
        "\n",
        "x1 = np.arange(0, 10, 2)\n",
        "x2 = np.arange(10, 20, 2)\n",
        "\n",
        "\n",
        "print(x1, x2)\n",
        "\n",
        "#x3 = np.concatenate([x1, x2], axis=0)     #concatenates given arrays\n",
        "x3 = np.stack([x1, x2], axis =0)           #stacks given arrays\n",
        "#x3 = np.vstack([x1,x2])                   #stacks given arrays vertically\n",
        "#x3 = np.hstack([x1,x2])                    #stacks given arrays horizontally or simply concatenates\n",
        "print(x3)\n",
        "\n"
      ],
      "metadata": {
        "colab": {
          "base_uri": "https://localhost:8080/"
        },
        "id": "sXhB_Mwq2mpk",
        "outputId": "2d4976df-4b3d-4634-f945-ecfa6748431d"
      },
      "execution_count": 100,
      "outputs": [
        {
          "output_type": "stream",
          "name": "stdout",
          "text": [
            "[0 2 4 6 8] [10 12 14 16 18] [20 22 24 26 28]\n",
            "[[ 0 10 20]\n",
            " [ 2 12 22]\n",
            " [ 4 14 24]\n",
            " [ 6 16 26]\n",
            " [ 8 18 28]]\n"
          ]
        }
      ]
    },
    {
      "cell_type": "code",
      "source": [
        "#Splitting and COncatenantion of Arrays(Trial Version)\n",
        "\n",
        "\n",
        "#Concatenation\n",
        "\n",
        "x1 = np.arange(0, 10, 2)\n",
        "x2 = np.arange(10, 20, 2)\n",
        "x3 = np.arange(20, 30, 2)\n",
        "\n",
        "print(x1, x2, x3)\n",
        "\n",
        "#x3 = np.concatenate([x1, x2], axis=0)     #concatenates given arrays\n",
        "#x3 = np.stack([x1, x2, x3], axis =0)\n",
        "x3 = np.stack([x1, x2, x3], axis =1)         #stacks given arrays\n",
        "#x3 = np.vstack([x1,x2])                   #stacks given arrays vertically\n",
        "#x3 = np.hstack([x1,x2])                    #stacks given arrays horizontally or simply concatenates\n",
        "print(x3)\n",
        "\n"
      ],
      "metadata": {
        "id": "8vg4Zz7r8InA"
      },
      "execution_count": null,
      "outputs": []
    },
    {
      "cell_type": "code",
      "source": [
        "#2D array  concatenation\n",
        "\n",
        "x1 = np.array([[1,2,3,4], [5,6,7,8]])\n",
        "x2 = np.array([[9,10,11,12],[13,14,15,16]])\n",
        "\n",
        "#print(x1,x2)\n",
        "\n",
        "x3 = np.concatenate([x1,x2], axis = 0)\n",
        "x3 = np.hstack([x1, x2])\n",
        "#x3 = np.vstack([x1, x2])\n",
        "print(x3, x3.shape)\n",
        "#np.hsplit(x3, [2])                      #splits an array into multiple sub-arrays horizontally"
      ],
      "metadata": {
        "colab": {
          "base_uri": "https://localhost:8080/"
        },
        "id": "n5z7w7Tp-Im2",
        "outputId": "308e44e3-8385-4327-8ac2-b0d0f2bf232e"
      },
      "execution_count": 127,
      "outputs": [
        {
          "output_type": "stream",
          "name": "stdout",
          "text": [
            "[[ 1  2  3  4  9 10 11 12]\n",
            " [ 5  6  7  8 13 14 15 16]] (2, 8)\n"
          ]
        }
      ]
    },
    {
      "cell_type": "code",
      "source": [
        "#Array Splitting\n",
        "\n",
        "x1 = np.arange(0,15,2)\n",
        "print(x1)\n",
        "\n",
        "x2 = np.split(x1,[3])   #splits the array after index 2\n",
        "print(x2)\n",
        "\n",
        "x2 = np.array_split(x1, 3)  #splits the entire array into arrays of size 3\n",
        "print(x2)"
      ],
      "metadata": {
        "colab": {
          "base_uri": "https://localhost:8080/"
        },
        "id": "1pnKRgzkHDRt",
        "outputId": "28e29e5b-cafd-460d-cfb1-1b5c30aba75b"
      },
      "execution_count": 126,
      "outputs": [
        {
          "output_type": "stream",
          "name": "stdout",
          "text": [
            "[ 0  2  4  6  8 10 12 14]\n",
            "[array([0, 2, 4]), array([ 6,  8, 10, 12, 14])]\n",
            "[array([0, 2, 4]), array([ 6,  8, 10]), array([12, 14])]\n"
          ]
        }
      ]
    },
    {
      "cell_type": "code",
      "source": [
        "#Array Reshaping\n",
        "x3 = np.array([[[1,2,3],                   #Here [[1,2,3], [3,4,5]] is 1st slice\n",
        "                [3,4,1]],\n",
        "\n",
        "                [[5,6,2],                  #Here [[5,6,2], [7,8,4]] is 2nd slice\n",
        "                [7,8,4]]])\n",
        "\n",
        "print(x3)\n"
      ],
      "metadata": {
        "id": "_oRnosKqIPY_"
      },
      "execution_count": null,
      "outputs": []
    },
    {
      "cell_type": "code",
      "source": [
        "np4 = np.array([[1,2,3,4],\n",
        "                [5,6,7,8],\n",
        "                [9,10,11,12],\n",
        "                [13,14,15,16]])\n",
        "\n",
        "print(np4.shape)"
      ],
      "metadata": {
        "colab": {
          "base_uri": "https://localhost:8080/"
        },
        "id": "iHCIuTrIEKma",
        "outputId": "eb9c2c5c-bb51-4288-bff0-a0368bda7c09"
      },
      "execution_count": 115,
      "outputs": [
        {
          "output_type": "stream",
          "name": "stdout",
          "text": [
            "(4, 4)\n"
          ]
        }
      ]
    },
    {
      "cell_type": "code",
      "source": [
        "x = np.array([[1,2,5,0],\n",
        "                [5,9,7,8],\n",
        "                [9,0,2,1],\n",
        "                [1,4,5,6]])\n",
        "\n",
        "#finding the unique values\n",
        "unique_values = np.unique(x)\n",
        "print(unique_values)\n",
        "\n",
        "#printing the frequencies of each element\n"
      ],
      "metadata": {
        "colab": {
          "base_uri": "https://localhost:8080/"
        },
        "id": "0qqXMdO7EwZv",
        "outputId": "f4e4eb2b-2492-4ec9-b6c0-28ce5df4f278"
      },
      "execution_count": 120,
      "outputs": [
        {
          "output_type": "stream",
          "name": "stdout",
          "text": [
            "[0 1 2 4 5 6 7 8 9]\n"
          ]
        }
      ]
    }
  ]
}